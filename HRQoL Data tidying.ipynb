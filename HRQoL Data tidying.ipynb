{
 "cells": [
  {
   "cell_type": "markdown",
   "metadata": {},
   "source": [
    "## Reading Excel data "
   ]
  },
  {
   "cell_type": "code",
   "execution_count": 1,
   "metadata": {},
   "outputs": [],
   "source": [
    "import pandas as pd\n",
    "import numpy as np "
   ]
  },
  {
   "cell_type": "code",
   "execution_count": 2,
   "metadata": {},
   "outputs": [],
   "source": [
    "xlsx = pd.ExcelFile('Covid data (2).xlsx')\n",
    "data = pd.read_excel(xlsx, 'Sheet1')"
   ]
  },
  {
   "cell_type": "markdown",
   "metadata": {},
   "source": [
    "## Exploring dataset "
   ]
  },
  {
   "cell_type": "code",
   "execution_count": 3,
   "metadata": {},
   "outputs": [
    {
     "data": {
      "text/plain": [
       "Index(['Timestamp', 'লিঙ্গ', 'বয়স', 'বাসস্থান', 'উচ্চতা (ফুট ইঞ্চি )',\n",
       "       'ওজন (কেজি)', 'শিক্ষা', 'পেশা',\n",
       "       'আপনার বর্তমান পেশায় আপনার কেমন শারীরিক পরিশ্রম হয় ?',\n",
       "       'আপনি কি দৈনিক শরীরচর্চা করেন ?',\n",
       "       'আপনার নিম্নোক্ত যে যে শারীরিক সমস্যা আছে তার বাম পাশের বক্সে ক্লিক করেন ?',\n",
       "       'আপনার COVID-19 পজিটিভ হয়েছিল কখন?', 'আপনি কোথায় সেবা নিয়েছিলেন ?',\n",
       "       'আপনি কত দিন হাসপাতালে ছিলেন ?',\n",
       "       'COVID-19 এর কোন কোন উপসর্গ গুলো দেখা গিয়েছিল ?',\n",
       "       'আপনার মতে আপনার স্বাস্থ্য এখন কেমন ?',\n",
       "       'এক বছরের পূর্বের তুলনায় আপনার বর্তমান স্বাস্থ্য কেমন ?', 'হাঁটা চলা',\n",
       "       'নিজের যত্ন নিজে নেওয়া',\n",
       "       'সাধারণ কাজকর্ম: যেমন টুকিটাকি কাজ, পড়াশুনা, বাড়িঘরের কাজ,অবসরের কাজ ইত্যাদি',\n",
       "       'গায়ে ব্যথা / গায়ে খারাপ লাগা', 'দুশ্চিন্তা / মনমরা ভাব',\n",
       "       'শরীরের ভালো না খারাপ অবস্থা আছে তা বুঝার কাজে আপনাকে সাহায্য করতে আমরা একটি স্কেল এঁকেছি। শরীর পুরোপুরি ভালো হলে 10 লিখা দাগ দিয়ে তা বুঝাতে হবে। একেবারেই খারাপ হলে বুঝাতে হবে 1 লিখা দাগ দিয়ে।আমরা চাই আপনার মতে আজ আপনার শরীর কতটা ভালো বা খারাপ তা এই স্কেল আমরা চাই আপনার মতে আজ আপনার শরীর কতটা ভালো বা খারাপ তা এই স্কেল স্কেলের স্কোর দিয়ে বুঝান। আপনার স্কোর .......',\n",
       "       'Unnamed: 23'],\n",
       "      dtype='object')"
      ]
     },
     "execution_count": 3,
     "metadata": {},
     "output_type": "execute_result"
    }
   ],
   "source": [
    "data.columns"
   ]
  },
  {
   "cell_type": "code",
   "execution_count": 4,
   "metadata": {},
   "outputs": [],
   "source": [
    "del data['Timestamp']"
   ]
  },
  {
   "cell_type": "markdown",
   "metadata": {},
   "source": [
    "### Variable Rename"
   ]
  },
  {
   "cell_type": "code",
   "execution_count": 5,
   "metadata": {},
   "outputs": [],
   "source": [
    "data1 = data.rename(columns={'লিঙ্গ':'Sex','বয়স':'Age','বাসস্থান':'Place of Residence','উচ্চতা (ফুট ইঞ্চি )':'Height(Feet)',\n",
    "                             'ওজন (কেজি)':'Weight(Kg)', 'শিক্ষা':'Education','পেশা':'Occupation',\n",
    "                             'আপনার বর্তমান পেশায় আপনার কেমন শারীরিক পরিশ্রম হয় ?':'Physical work in work place',\n",
    "                             'আপনি কি দৈনিক শরীরচর্চা করেন ?':'Takign Regular Physical Exercise',\n",
    "                             'আপনার নিম্নোক্ত যে যে শারীরিক সমস্যা আছে তার বাম পাশের বক্সে ক্লিক করেন ?':'Co-morbidity',\n",
    "                             'আপনার COVID-19 পজিটিভ হয়েছিল কখন?':'Month of COVID-19 positive',\n",
    "                             'আপনি কোথায় সেবা নিয়েছিলেন ?':'Place of Care',\n",
    "                            'আপনি কত দিন হাসপাতালে ছিলেন ?':'Duration of Hospital stay',\n",
    "                            'COVID-19 এর কোন কোন উপসর্গ গুলো দেখা গিয়েছিল ?':'Symptom of COVID-19',\n",
    "                             'আপনার মতে আপনার স্বাস্থ্য এখন কেমন ?':'Health status(Own Assessment)',\n",
    "                             'এক বছরের পূর্বের তুলনায় আপনার বর্তমান স্বাস্থ্য কেমন ?':'Compared with previous year',\n",
    "                             'হাঁটা চলা':'Mobility',\n",
    "                             'নিজের যত্ন নিজে নেওয়া':'Self-Care',\n",
    "                             'সাধারণ কাজকর্ম: যেমন টুকিটাকি কাজ, পড়াশুনা, বাড়িঘরের কাজ,অবসরের কাজ ইত্যাদি':'Usual Activities',\n",
    "                             'গায়ে ব্যথা / গায়ে খারাপ লাগা':'Pain/Discomfort',\n",
    "                             'দুশ্চিন্তা / মনমরা ভাব':'Anxiety/Depression',\n",
    "                             'শরীরের ভালো না খারাপ অবস্থা আছে তা বুঝার কাজে আপনাকে সাহায্য করতে আমরা একটি স্কেল এঁকেছি। শরীর পুরোপুরি ভালো হলে 10 লিখা দাগ দিয়ে তা বুঝাতে হবে। একেবারেই খারাপ হলে বুঝাতে হবে 1 লিখা দাগ দিয়ে।আমরা চাই আপনার মতে আজ আপনার শরীর কতটা ভালো বা খারাপ তা এই স্কেল আমরা চাই আপনার মতে আজ আপনার শরীর কতটা ভালো বা খারাপ তা এই স্কেল স্কেলের স্কোর দিয়ে বুঝান। আপনার স্কোর .......':'Visual Score'\n",
    "                            })"
   ]
  },
  {
   "cell_type": "code",
   "execution_count": 6,
   "metadata": {},
   "outputs": [
    {
     "data": {
      "text/plain": [
       "Index(['Sex', 'Age', 'Place of Residence', 'Height(Feet)', 'Weight(Kg)',\n",
       "       'Education', 'Occupation', 'Physical work in work place',\n",
       "       'Takign Regular Physical Exercise', 'Co-morbidity',\n",
       "       'Month of COVID-19 positive', 'Place of Care',\n",
       "       'Duration of Hospital stay', 'Symptom of COVID-19',\n",
       "       'Health status(Own Assessment)', 'Compared with previous year',\n",
       "       'Mobility', 'Self-Care', 'Usual Activities', 'Pain/Discomfort',\n",
       "       'Anxiety/Depression', 'Visual Score', 'Unnamed: 23'],\n",
       "      dtype='object')"
      ]
     },
     "execution_count": 6,
     "metadata": {},
     "output_type": "execute_result"
    }
   ],
   "source": [
    "data1.columns"
   ]
  },
  {
   "cell_type": "markdown",
   "metadata": {},
   "source": [
    "data1.columns"
   ]
  },
  {
   "cell_type": "code",
   "execution_count": 7,
   "metadata": {},
   "outputs": [
    {
     "data": {
      "text/plain": [
       "0       5'4\n",
       "1       5'3\n",
       "2       5'4\n",
       "3       5'2\n",
       "4       5'5\n",
       "       ... \n",
       "552     5'4\n",
       "553    5'10\n",
       "554     5'6\n",
       "555     5'5\n",
       "556     5'0\n",
       "Name: Height(Feet), Length: 557, dtype: object"
      ]
     },
     "execution_count": 7,
     "metadata": {},
     "output_type": "execute_result"
    }
   ],
   "source": [
    "data1.iloc[:,3]"
   ]
  },
  {
   "cell_type": "markdown",
   "metadata": {},
   "source": [
    "### BMI Calculation"
   ]
  },
  {
   "cell_type": "markdown",
   "metadata": {},
   "source": [
    "* Covert \"Height(Feet)\" variable into \"Height\" (unit=inch) and dtype = integer  "
   ]
  },
  {
   "cell_type": "code",
   "execution_count": 8,
   "metadata": {},
   "outputs": [],
   "source": [
    "import re"
   ]
  },
  {
   "cell_type": "code",
   "execution_count": 9,
   "metadata": {},
   "outputs": [],
   "source": [
    "Height = np.zeros(len(data1.iloc[:,3]), dtype=int)                            # create a variable of same length with zeor value\n",
    "j=-1                                                                          # iteration indexing\n",
    "for i in data1.iloc[:,3]:                                                     # use for loop \n",
    "    j=int(j+1)                                                                # no of iteration \n",
    "    height= int(re.findall('[0-9]',i)[0])*12+int(re.findall('[0-9]',i)[1])    # convert into inch \n",
    "    Height[j]=height                                                          # assign in the variable "
   ]
  },
  {
   "cell_type": "markdown",
   "metadata": {},
   "source": [
    "* Insert a new variable in data1 dataframe "
   ]
  },
  {
   "cell_type": "code",
   "execution_count": 10,
   "metadata": {},
   "outputs": [],
   "source": [
    "data1['Height'] = Height"
   ]
  },
  {
   "cell_type": "markdown",
   "metadata": {},
   "source": [
    "* Check is there 'Height' variable in Data1 DataFrame"
   ]
  },
  {
   "cell_type": "code",
   "execution_count": 11,
   "metadata": {
    "scrolled": true
   },
   "outputs": [
    {
     "data": {
      "text/plain": [
       "True"
      ]
     },
     "execution_count": 11,
     "metadata": {},
     "output_type": "execute_result"
    }
   ],
   "source": [
    "'Height' in data1.columns"
   ]
  },
  {
   "cell_type": "markdown",
   "metadata": {},
   "source": [
    "* Check is there any '0' or missing values in 'Height'"
   ]
  },
  {
   "cell_type": "code",
   "execution_count": 12,
   "metadata": {},
   "outputs": [
    {
     "data": {
      "text/plain": [
       "False"
      ]
     },
     "execution_count": 12,
     "metadata": {},
     "output_type": "execute_result"
    }
   ],
   "source": [
    "'0' in data1['Height']"
   ]
  },
  {
   "cell_type": "markdown",
   "metadata": {},
   "source": [
    "* Check missing values"
   ]
  },
  {
   "cell_type": "code",
   "execution_count": 13,
   "metadata": {},
   "outputs": [
    {
     "data": {
      "text/plain": [
       "False"
      ]
     },
     "execution_count": 13,
     "metadata": {},
     "output_type": "execute_result"
    }
   ],
   "source": [
    "pd.isnull(data1['Height']).all()\n"
   ]
  },
  {
   "cell_type": "markdown",
   "metadata": {},
   "source": [
    "* BMI variable \n",
    "* 1 meter = 39.3701 inches \n",
    "* BMI = kg/m^2\n",
    "* Underweight = less than 18.5 BMI\n",
    "* Normal Weight = 18.5 to 24.9 BMI\n",
    "* Overweight = 25 to 29.9 BMI\n",
    "* Obesity = 30 or Greater than 30 BMI"
   ]
  },
  {
   "cell_type": "code",
   "execution_count": 22,
   "metadata": {},
   "outputs": [],
   "source": [
    "BMI = list(range(len(data1['Height'])) )                            # create a variable of same length with zeor value\n",
    "j=-1                                                                          # iteration indexing\n",
    "for i in data1['Height']:                                                     # use 'for loop' \n",
    "    j=int(j+1)                                                                # no of iteration \n",
    "    meter = float(i/39.3701)                # inch to meter convertion  \n",
    "    kg = data1.loc[j,'Weight(Kg)']          # selecting values of weight variable \n",
    "    bmi = kg/(meter)**2                     # calculation of numeric value of BMI\n",
    "    if bmi<18.5:                            # categorize BMI\n",
    "        BMI[j]=\"Underweight\"\n",
    "    if bmi>=18.5 and bmi<25:\n",
    "        BMI[j]=\"Normal Weight\"\n",
    "    if bmi>= 25 and bmi <30:\n",
    "        BMI[j] = \"Overweight\"\n",
    "    if bmi > 30:\n",
    "        BMI[j] = \"Obesity\"           "
   ]
  },
  {
   "cell_type": "markdown",
   "metadata": {},
   "source": [
    "* inserting BMI variable "
   ]
  },
  {
   "cell_type": "code",
   "execution_count": 23,
   "metadata": {},
   "outputs": [],
   "source": [
    "data1['BMI'] = BMI"
   ]
  },
  {
   "cell_type": "markdown",
   "metadata": {},
   "source": [
    "* Frequency of BMI "
   ]
  },
  {
   "cell_type": "code",
   "execution_count": 24,
   "metadata": {},
   "outputs": [
    {
     "data": {
      "text/plain": [
       "Normal Weight    290\n",
       "Overweight       176\n",
       "Obesity           66\n",
       "Underweight       25\n",
       "Name: BMI, dtype: int64"
      ]
     },
     "execution_count": 24,
     "metadata": {},
     "output_type": "execute_result"
    }
   ],
   "source": [
    "data1['BMI'].value_counts()"
   ]
  },
  {
   "cell_type": "markdown",
   "metadata": {},
   "source": [
    "## Value Recoding of Sex variable"
   ]
  },
  {
   "cell_type": "markdown",
   "metadata": {},
   "source": [
    "* Check the Frequency of Sex variable"
   ]
  },
  {
   "cell_type": "code",
   "execution_count": 26,
   "metadata": {
    "scrolled": true
   },
   "outputs": [
    {
     "data": {
      "text/plain": [
       "1    417\n",
       "2    140\n",
       "Name: Sex, dtype: int64"
      ]
     },
     "execution_count": 26,
     "metadata": {},
     "output_type": "execute_result"
    }
   ],
   "source": [
    "data1['Sex'].value_counts()"
   ]
  },
  {
   "cell_type": "markdown",
   "metadata": {},
   "source": [
    "* Recode \"Sex\" Variable"
   ]
  },
  {
   "cell_type": "code",
   "execution_count": 28,
   "metadata": {},
   "outputs": [],
   "source": [
    "j=-1                                                                          # iteration indexing\n",
    "for i in data1['Height']:                                                     # use 'for loop' \n",
    "    j=int(j+1)   \n",
    "    if data1.loc[j,'Sex'] == 1 :\n",
    "        data1.loc[j,'Sex'] = \"Male\" \n",
    "    else:\n",
    "            data1.loc[j,'Sex'] = \"Female\""
   ]
  },
  {
   "cell_type": "markdown",
   "metadata": {},
   "source": [
    "* Frequency of \"Sex\" Varible after Recoding "
   ]
  },
  {
   "cell_type": "code",
   "execution_count": 29,
   "metadata": {
    "scrolled": true
   },
   "outputs": [
    {
     "data": {
      "text/plain": [
       "Male      417\n",
       "Female    140\n",
       "Name: Sex, dtype: int64"
      ]
     },
     "execution_count": 29,
     "metadata": {},
     "output_type": "execute_result"
    }
   ],
   "source": [
    "data1['Sex'].value_counts()"
   ]
  }
 ],
 "metadata": {
  "kernelspec": {
   "display_name": "Python 3",
   "language": "python",
   "name": "python3"
  },
  "language_info": {
   "codemirror_mode": {
    "name": "ipython",
    "version": 3
   },
   "file_extension": ".py",
   "mimetype": "text/x-python",
   "name": "python",
   "nbconvert_exporter": "python",
   "pygments_lexer": "ipython3",
   "version": "3.8.5"
  }
 },
 "nbformat": 4,
 "nbformat_minor": 4
}
